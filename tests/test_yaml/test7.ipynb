{
 "cells": [
  {
   "cell_type": "code",
   "execution_count": null,
   "id": "90cc2c56-daa8-45fc-b7bf-8e149f79d8b1",
   "metadata": {},
   "outputs": [],
   "source": [
    "import valohai\n",
    "\n",
    "params = {\n",
    "    \"epochs\": 500,\n",
    "    \"learning-rate\": 0.001,\n",
    "    \"flaggy\": True,\n",
    "    \"stringy\": \"holla\",\n",
    "}\n",
    "\n",
    "inputs = {\n",
    "    \"my-image\": \"https://dist.valohai.com/valohai-utils-tests/Example.jpg\",\n",
    "    \"my-optional-input\": \"\",\n",
    "}\n",
    "\n",
    "valohai.prepare(\n",
    "    step=\"re-train\", \n",
    "    default_parameters=params, \n",
    "    default_inputs=inputs, \n",
    "    image=\"valohai/pypermill\"\n",
    ")"
   ]
  }
 ],
 "metadata": {
  "kernelspec": {
   "display_name": "Python 3",
   "language": "python",
   "name": "python3"
  },
  "language_info": {
   "codemirror_mode": {
    "name": "ipython",
    "version": 3
   },
   "file_extension": ".py",
   "mimetype": "text/x-python",
   "name": "python",
   "nbconvert_exporter": "python",
   "pygments_lexer": "ipython3",
   "version": "3.8.0"
  }
 },
 "nbformat": 4,
 "nbformat_minor": 5
}
